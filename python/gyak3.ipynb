{
 "cells": [
  {
   "cell_type": "code",
   "execution_count": 1,
   "metadata": {},
   "outputs": [
    {
     "name": "stdout",
     "output_type": "stream",
     "text": [
      "episode: friends/13, time: 12.3, rep: 2, Session: 5.8\n"
     ]
    }
   ],
   "source": [
    "print(\"episode: {}/{}, time: {}, rep: {}, Session: {:.2}\".format(\"friends\", 113, 12.30, 2, 5.786) ) "
   ]
  },
  {
   "cell_type": "code",
   "execution_count": 27,
   "metadata": {},
   "outputs": [
    {
     "name": "stdout",
     "output_type": "stream",
     "text": [
      "My name is Anshuman 1 14.600000 That's it \n"
     ]
    }
   ],
   "source": [
    "print ( \"My name is %s %d %f\" % ('Anshuman' ,1, 14.6), \"That's it \")"
   ]
  },
  {
   "cell_type": "code",
   "execution_count": 3,
   "metadata": {},
   "outputs": [
    {
     "name": "stdout",
     "output_type": "stream",
     "text": [
      "ABX is an XYZ company.\n"
     ]
    }
   ],
   "source": [
    "name = \"ABX\"\n",
    "type_of_company = \"XYZ\"\n",
    "\n",
    "print(f\"{name} is an {type_of_company} company.\")"
   ]
  },
  {
   "cell_type": "code",
   "execution_count": 4,
   "metadata": {},
   "outputs": [
    {
     "data": {
      "text/plain": [
       "True"
      ]
     },
     "execution_count": 4,
     "metadata": {},
     "output_type": "execute_result"
    }
   ],
   "source": [
    "2 == 2"
   ]
  },
  {
   "cell_type": "code",
   "execution_count": 5,
   "metadata": {},
   "outputs": [
    {
     "data": {
      "text/plain": [
       "True"
      ]
     },
     "execution_count": 5,
     "metadata": {},
     "output_type": "execute_result"
    }
   ],
   "source": [
    "2 == 2."
   ]
  },
  {
   "cell_type": "code",
   "execution_count": 6,
   "metadata": {},
   "outputs": [
    {
     "name": "stdout",
     "output_type": "stream",
     "text": [
      "False\n",
      "True\n"
     ]
    }
   ],
   "source": [
    "x = 5\n",
    "y = 10\n",
    "z = 8\n",
    "print(x > y)\n",
    "print(y > z)"
   ]
  },
  {
   "cell_type": "code",
   "execution_count": 7,
   "metadata": {},
   "outputs": [
    {
     "name": "stdout",
     "output_type": "stream",
     "text": [
      "False\n",
      "True\n"
     ]
    }
   ],
   "source": [
    "x, y, z = 5, 10, 8\n",
    "print(x > z)\n",
    "print((y - 5) == x)"
   ]
  },
  {
   "cell_type": "code",
   "execution_count": 8,
   "metadata": {},
   "outputs": [
    {
     "name": "stdout",
     "output_type": "stream",
     "text": [
      "True\n",
      "False\n"
     ]
    }
   ],
   "source": [
    "x, y, z = 5, 10, 8\n",
    "x, y, z = z, y, x\n",
    "print(x > z)\n",
    "print((y - 5) == x)"
   ]
  },
  {
   "cell_type": "code",
   "execution_count": 9,
   "metadata": {},
   "outputs": [
    {
     "name": "stdout",
     "output_type": "stream",
     "text": [
      "True\n",
      "True\n",
      "else\n"
     ]
    }
   ],
   "source": [
    "x = 10\n",
    "if x == 10:\n",
    "    print(x == 10)\n",
    "\n",
    "if x > 5:\n",
    "    print(x > 5)\n",
    "\n",
    "if x < 10:\n",
    "    print(x < 10)\n",
    "    \n",
    "else:\n",
    "    print(\"else\")"
   ]
  },
  {
   "cell_type": "code",
   "execution_count": 10,
   "metadata": {},
   "outputs": [
    {
     "name": "stdout",
     "output_type": "stream",
     "text": [
      "True\n"
     ]
    }
   ],
   "source": [
    "# 3.1\n",
    "\n",
    "number1 = int(input(\"Enter a number: \"))\n",
    "print(number1 > 99)"
   ]
  },
  {
   "cell_type": "code",
   "execution_count": 11,
   "metadata": {},
   "outputs": [
    {
     "name": "stdout",
     "output_type": "stream",
     "text": [
      "4\n",
      "3\n",
      "2\n",
      "0\n"
     ]
    }
   ],
   "source": [
    "n = 3\n",
    "while n > 0:\n",
    "    print(n + 1)\n",
    "    n -= 1\n",
    "else:\n",
    "    print(n)"
   ]
  },
  {
   "cell_type": "code",
   "execution_count": 12,
   "metadata": {},
   "outputs": [
    {
     "data": {
      "text/plain": [
       "range(0, 4)"
      ]
     },
     "execution_count": 12,
     "metadata": {},
     "output_type": "execute_result"
    }
   ],
   "source": [
    "n = range(4)\n",
    "n"
   ]
  },
  {
   "cell_type": "code",
   "execution_count": 13,
   "metadata": {},
   "outputs": [
    {
     "name": "stdout",
     "output_type": "stream",
     "text": [
      "-1\n",
      "0\n",
      "1\n",
      "2\n",
      "3\n"
     ]
    }
   ],
   "source": [
    "n = range(4)\n",
    "for num in n:\n",
    "    print(num - 1)\n",
    "else:\n",
    "    print(num)"
   ]
  },
  {
   "cell_type": "code",
   "execution_count": 14,
   "metadata": {},
   "outputs": [
    {
     "name": "stdout",
     "output_type": "stream",
     "text": [
      "-1\n",
      "0\n",
      "1\n",
      "2\n"
     ]
    }
   ],
   "source": [
    "n = range(4)\n",
    "for num in n:\n",
    "    print(num - 1)"
   ]
  },
  {
   "cell_type": "code",
   "execution_count": 39,
   "metadata": {},
   "outputs": [
    {
     "data": {
      "text/plain": [
       "range"
      ]
     },
     "execution_count": 39,
     "metadata": {},
     "output_type": "execute_result"
    }
   ],
   "source": [
    "n = range(2,6,1)\n",
    "type(n)"
   ]
  },
  {
   "cell_type": "code",
   "execution_count": 40,
   "metadata": {},
   "outputs": [
    {
     "data": {
      "text/plain": [
       "[2, 3, 4, 5]"
      ]
     },
     "execution_count": 40,
     "metadata": {},
     "output_type": "execute_result"
    }
   ],
   "source": [
    "list(n)"
   ]
  },
  {
   "cell_type": "code",
   "execution_count": 32,
   "metadata": {},
   "outputs": [
    {
     "name": "stdout",
     "output_type": "stream",
     "text": [
      "0\n",
      "3\n"
     ]
    }
   ],
   "source": [
    "for i in range(0, 6, 3):\n",
    "    print(i)\n"
   ]
  },
  {
   "cell_type": "code",
   "execution_count": 41,
   "metadata": {},
   "outputs": [
    {
     "name": "stdout",
     "output_type": "stream",
     "text": [
      "False\n"
     ]
    }
   ],
   "source": [
    "x = 1\n",
    "y = 0\n",
    "z = ((x == y) and (x == y)) or not(x == y)\n",
    "print(not(z))"
   ]
  },
  {
   "cell_type": "code",
   "execution_count": 18,
   "metadata": {},
   "outputs": [
    {
     "name": "stdout",
     "output_type": "stream",
     "text": [
      "0 5 -5 1 1 16\n"
     ]
    }
   ],
   "source": [
    "x = 4\n",
    "y = 1\n",
    "a = x & y\n",
    "b = x | y\n",
    "c = ~x # tricky!\n",
    "d = x ^ 5\n",
    "e = x >> 2\n",
    "f = x << 2\n",
    "print(a, b, c, d, e, f)"
   ]
  },
  {
   "attachments": {},
   "cell_type": "markdown",
   "metadata": {},
   "source": [
    "& \tAND\tSets each bit to 1 if both bits are 1  \n",
    "|\tOR\tSets each bit to 1 if one of two bits is 1  \n",
    "^\tXOR\tSets each bit to 1 if only one of two bits is 1  \n",
    "~ \tNOT\tInverts all the bits  \n",
    "<<\tZero fill left shift\tShift left by pushing zeros in from the right and let the leftmost bits fall off  \n",
    "'>> Signed right shift\tShift right by pushing copies of the leftmost bit in from the left, and let the rightmost bits fall off  "
   ]
  },
  {
   "cell_type": "code",
   "execution_count": 43,
   "metadata": {},
   "outputs": [
    {
     "name": "stdout",
     "output_type": "stream",
     "text": [
      "Line 1 - Value of c is  12\n",
      "Line 2 - Value of c is  61\n",
      "Line 3 - Value of c is  49\n",
      "Line 4 - Value of c is  -61\n",
      "Line 5 - Value of c is  240\n",
      "Line 6 - Value of c is  15\n"
     ]
    }
   ],
   "source": [
    "a = 60            # 60 = 0011 1100 \n",
    "b = 13            # 13 = 0000 1101 \n",
    "c = 0\n",
    "\n",
    "c = a & b;        # 12 = 0000 1100\n",
    "print (\"Line 1 - Value of c is \", c)\n",
    "\n",
    "c = a | b;        # 61 = 0011 1101 \n",
    "print (\"Line 2 - Value of c is \", c)\n",
    "\n",
    "c = a ^ b;        # 49 = 0011 0001\n",
    "print (\"Line 3 - Value of c is \", c)\n",
    "\n",
    "c = ~a;           # -61 = 1100 0011\n",
    "print (\"Line 4 - Value of c is \", c)\n",
    "\n",
    "c = a << 2;       # 240 = 1111 0000\n",
    "print (\"Line 5 - Value of c is \", c)\n",
    "\n",
    "c = a >> 2;       # 15 = 0000 1111\n",
    "print (\"Line 6 - Value of c is \", c)"
   ]
  },
  {
   "cell_type": "code",
   "execution_count": 19,
   "metadata": {},
   "outputs": [
    {
     "name": "stdout",
     "output_type": "stream",
     "text": [
      "[1, 6, 2, 3, 4, 5]\n",
      "[6, 2, 3, 4, 5]\n",
      "[6, 2, 3, 4, 5, 1]\n"
     ]
    }
   ],
   "source": [
    "lst = [1, 2, 3, 4, 5]\n",
    "lst.insert(1, 6)\n",
    "print(lst)\n",
    "del lst[0]\n",
    "print(lst)\n",
    "lst.append(1)\n",
    "print(lst)"
   ]
  },
  {
   "cell_type": "code",
   "execution_count": 20,
   "metadata": {},
   "outputs": [
    {
     "name": "stdout",
     "output_type": "stream",
     "text": [
      "1 1\n",
      "2 3\n",
      "3 6\n",
      "4 10\n",
      "5 15\n",
      "[1, 3, 6, 10, 15]\n"
     ]
    }
   ],
   "source": [
    "lst = [1, 2, 3, 4, 5]\n",
    "lst_2 = []\n",
    "add = 0\n",
    "for number in lst:\n",
    "    add += number\n",
    "    print(number,add)\n",
    "    lst_2.append(add)\n",
    "print(lst_2)"
   ]
  },
  {
   "cell_type": "code",
   "execution_count": 21,
   "metadata": {},
   "outputs": [
    {
     "ename": "NameError",
     "evalue": "name 'lst' is not defined",
     "output_type": "error",
     "traceback": [
      "\u001b[1;31m---------------------------------------------------------------------------\u001b[0m",
      "\u001b[1;31mNameError\u001b[0m                                 Traceback (most recent call last)",
      "Cell \u001b[1;32mIn[21], line 3\u001b[0m\n\u001b[0;32m      1\u001b[0m lst \u001b[39m=\u001b[39m []\n\u001b[0;32m      2\u001b[0m \u001b[39mdel\u001b[39;00m lst\n\u001b[1;32m----> 3\u001b[0m \u001b[39mprint\u001b[39m(lst)\n",
      "\u001b[1;31mNameError\u001b[0m: name 'lst' is not defined"
     ]
    }
   ],
   "source": [
    "lst = []\n",
    "del lst\n",
    "print(lst)\n"
   ]
  },
  {
   "cell_type": "code",
   "execution_count": 44,
   "metadata": {},
   "outputs": [
    {
     "name": "stdout",
     "output_type": "stream",
     "text": [
      "[2, 3]\n",
      "3\n"
     ]
    }
   ],
   "source": [
    "lst = [1, [2, 3], 4]\n",
    "\n",
    "print(lst[1])\n",
    "print(len(lst))\n"
   ]
  },
  {
   "cell_type": "code",
   "execution_count": 45,
   "metadata": {},
   "outputs": [
    {
     "name": "stdout",
     "output_type": "stream",
     "text": [
      "The larger number is: 1\n"
     ]
    }
   ],
   "source": [
    "# 3.2\n",
    "# Read two numbers\n",
    "number1 = int(input(\"Enter the first number: \"))\n",
    "number2 = int(input(\"Enter the second number: \"))\n",
    "# Choose the larger number\n",
    "if number1 > number2:\n",
    "    larger_number = number1\n",
    "else:\n",
    "    larger_number = number2\n",
    "# Print the result\n",
    "print(\"The larger number is:\", larger_number)"
   ]
  },
  {
   "cell_type": "code",
   "execution_count": 46,
   "metadata": {},
   "outputs": [
    {
     "name": "stdout",
     "output_type": "stream",
     "text": [
      "The larger number is: 1\n"
     ]
    }
   ],
   "source": [
    "# Read two numbers\n",
    "number1 = int(input(\"Enter the first number: \"))\n",
    "number2 = int(input(\"Enter the second number: \"))\n",
    "# Choose the larger number\n",
    "if number1 > number2: larger_number = number1\n",
    "else: larger_number = number2\n",
    "# Print the result\n",
    "print(\"The larger number is:\", larger_number)"
   ]
  },
  {
   "cell_type": "code",
   "execution_count": 48,
   "metadata": {},
   "outputs": [
    {
     "name": "stdout",
     "output_type": "stream",
     "text": [
      "The largest number is: 3\n"
     ]
    }
   ],
   "source": [
    "# Read three numbers\n",
    "number1 = int(input(\"Enter the first number: \"))\n",
    "number2 = int(input(\"Enter the second number: \"))\n",
    "number3 = int(input(\"Enter the third number: \"))\n",
    "# We temporarily assume that the first number is the largest one.\n",
    "# We will verify this soon.\n",
    "largest_number = number1\n",
    "# We check if the second number is larger than current largest_number and update largest_number if needed.\n",
    "if number2 > largest_number: largest_number = number2\n",
    "# We check if the third number is larger than current largest_number and update largest_number if needed.\n",
    "if number3 > largest_number: largest_number = number3\n",
    "# Print the result\n",
    "print(\"The largest number is:\", largest_number)"
   ]
  },
  {
   "cell_type": "code",
   "execution_count": 49,
   "metadata": {},
   "outputs": [
    {
     "name": "stdout",
     "output_type": "stream",
     "text": [
      "Common2\n"
     ]
    }
   ],
   "source": [
    "# 3.3\n",
    "\n",
    "year = int(input(\"Enter a number:\"))\n",
    "if(year % 4 != 0):\n",
    "    print(\"Common1\")\n",
    "elif(year % 100 != 0):\n",
    "    print(\"Leap1\")\n",
    "elif(year % 400 != 0):\n",
    "    print(\"Common2\")\n",
    "else:\n",
    "    print(\"Leap2\")"
   ]
  },
  {
   "cell_type": "code",
   "execution_count": 50,
   "metadata": {},
   "outputs": [
    {
     "name": "stdout",
     "output_type": "stream",
     "text": [
      "Ha ha! You're stuck in my loop!\n",
      "Well done, muggle! You are free now.\n"
     ]
    }
   ],
   "source": [
    "# 3.4\n",
    "\n",
    "secret_number = 777\n",
    "\n",
    "guess = 0\n",
    "while(guess != secret_number):\n",
    "    guess = int(input(\"Enter a number:\"))\n",
    "    if(guess != secret_number):\n",
    "        print(\"Ha ha! You're stuck in my loop!\")\n",
    "\n",
    "print(\"Well done, muggle! You are free now.\")"
   ]
  },
  {
   "cell_type": "code",
   "execution_count": 54,
   "metadata": {},
   "outputs": [
    {
     "name": "stdout",
     "output_type": "stream",
     "text": [
      "Well done, muggle! You are free now.\n"
     ]
    }
   ],
   "source": [
    "# 3.4\n",
    "\n",
    "secret_number = 777\n",
    "\n",
    "guess = 0\n",
    "while(guess != secret_number):\n",
    "    guess = int(input(\"Enter a number:\"))\n",
    "    if(guess != secret_number):\n",
    "        print(\"Ha ha! You're stuck in my loop!\")\n",
    "\n",
    "print(\"Well done, muggle! You are free now.\")"
   ]
  },
  {
   "cell_type": "code",
   "execution_count": 55,
   "metadata": {},
   "outputs": [
    {
     "name": "stdout",
     "output_type": "stream",
     "text": [
      "yes\n"
     ]
    }
   ],
   "source": [
    "# 3.5\n",
    "\n",
    "word = ''\n",
    "\n",
    "while (True):\n",
    "    word = input(\"Enter a word: \")\n",
    "    if(word == \"chupacabra\"):\n",
    "        break\n",
    "\n",
    "print(\"yes\")"
   ]
  },
  {
   "cell_type": "code",
   "execution_count": 56,
   "metadata": {},
   "outputs": [
    {
     "name": "stdout",
     "output_type": "stream",
     "text": [
      "BSTMS\n"
     ]
    }
   ],
   "source": [
    "user_word = input(\"Enter a word: \")\n",
    "user_word = user_word.upper()\n",
    "\n",
    "word_without_vowels = \"\"\n",
    "\n",
    "for letter in user_word:\n",
    "    if(letter not in [\"A\",\"E\",\"I\",\"O\",\"U\"]):\n",
    "        word_without_vowels += letter\n",
    "\n",
    "print(word_without_vowels)"
   ]
  },
  {
   "cell_type": "code",
   "execution_count": null,
   "metadata": {},
   "outputs": [
    {
     "name": "stdout",
     "output_type": "stream",
     "text": [
      "46\n",
      "23\n",
      "70\n",
      "35\n",
      "106\n",
      "53\n",
      "160\n",
      "80\n",
      "40\n",
      "20\n",
      "10\n",
      "5\n",
      "16\n",
      "8\n",
      "4\n",
      "2\n",
      "1\n",
      "Steps: 17\n"
     ]
    }
   ],
   "source": [
    "# 3.6\n",
    "\n",
    "number = int(input(\"Enter a number: \"))\n",
    "c = 0\n",
    "while(number != 1):\n",
    "    if(number % 2 == 0):\n",
    "        number = number // 2\n",
    "    else: number = number * 3 + 1\n",
    "    print(number)\n",
    "    c += 1\n",
    "\n",
    "print(\"Steps:\",c)"
   ]
  },
  {
   "cell_type": "code",
   "execution_count": 57,
   "metadata": {},
   "outputs": [
    {
     "name": "stdout",
     "output_type": "stream",
     "text": [
      "Csere\n",
      " [1, 2, 3, 4, 5]\n",
      "Pop\n",
      " [1, 2, 3, 4]\n",
      "len\n",
      " 4\n"
     ]
    }
   ],
   "source": [
    "# 3.7\n",
    "\n",
    "hat_list = [1, 2, 3, 4, 5] # This is an existing list of numbers hidden in the hat.\n",
    "# Step 1: write a line of code that prompts the user\n",
    "# to replace the middle number with an integer number entered by the user.\n",
    "\n",
    "middle_number = int(input(\"Enter a number:\"))\n",
    "hat_list[2] = middle_number\n",
    "print(\"Csere\\n\", hat_list)\n",
    "# Step 2: write a line of code that removes the last element from the list.\n",
    "hat_list.pop()\n",
    "print(\"Pop\\n\", hat_list)\n",
    "# Step 3: write a line of code that prints the length of the existing list.\n",
    "print(\"len\\n\",len(hat_list))"
   ]
  },
  {
   "cell_type": "code",
   "execution_count": 58,
   "metadata": {},
   "outputs": [
    {
     "name": "stdout",
     "output_type": "stream",
     "text": [
      "Step 1: []\n",
      "Step 2: ['John Lennon', 'Paul McCartney', 'George Harrison']\n",
      "Step 3: ['John Lennon', 'Paul McCartney', 'George Harrison', 'Stu Sutcliffe', ' Pete Best']\n",
      "Step 3,5: ['John Lennon', 'Paul McCartney', 'George Harrison', ' Pete Best']\n",
      "Step 4: ['John Lennon', 'Paul McCartney', 'George Harrison']\n",
      "Step 5: ['Ringo Starr', 'John Lennon', 'Paul McCartney', 'George Harrison']\n",
      "The Fab 4\n"
     ]
    }
   ],
   "source": [
    "# 3.8\n",
    "\n",
    "beatles = []\n",
    "\n",
    "# step 1\n",
    "print(\"Step 1:\", beatles)\n",
    "\n",
    "beatles.append(\"John Lennon\")\n",
    "beatles.append(\"Paul McCartney\")\n",
    "beatles.append(\"George Harrison\")\n",
    "\n",
    "# step 2\n",
    "print(\"Step 2:\", beatles)\n",
    "\n",
    "members = [\"Stu Sutcliffe\",\" Pete Best\"]\n",
    "\n",
    "for i in range(len(members)):\n",
    "    beatles.append(members[i])\n",
    "\n",
    "# step 3\n",
    "print(\"Step 3:\", beatles)   \n",
    "\n",
    "beatles.remove(\"Stu Sutcliffe\")\n",
    "print(\"Step 3,5:\", beatles)   \n",
    "del beatles[3]\n",
    "\n",
    "# step 4\n",
    "print(\"Step 4:\", beatles)\n",
    "\n",
    "beatles.insert(0,\"Ringo Starr\")\n",
    "\n",
    "# step 5\n",
    "print(\"Step 5:\", beatles)\n",
    "\n",
    "# testing list legth\n",
    "print(\"The Fab\", len(beatles))"
   ]
  },
  {
   "cell_type": "code",
   "execution_count": 59,
   "metadata": {},
   "outputs": [
    {
     "name": "stdout",
     "output_type": "stream",
     "text": [
      "['C']\n"
     ]
    }
   ],
   "source": [
    "list_1 = [\"A\", \"B\", \"C\"]\n",
    "list_2 = list_1\n",
    "list_3 = list_2\n",
    "del list_1[0]\n",
    "del list_2[0]\n",
    "print(list_2)"
   ]
  },
  {
   "cell_type": "code",
   "execution_count": 60,
   "metadata": {},
   "outputs": [
    {
     "name": "stdout",
     "output_type": "stream",
     "text": [
      "['B', 'C']\n"
     ]
    }
   ],
   "source": [
    "list_1 = [\"A\", \"B\", \"C\"]\n",
    "list_2 = list_1\n",
    "list_3 = list_2\n",
    "del list_1[0]\n",
    "del list_2\n",
    "print(list_3)\n"
   ]
  },
  {
   "cell_type": "code",
   "execution_count": 61,
   "metadata": {},
   "outputs": [
    {
     "data": {
      "text/plain": [
       "['A', 'B', 'C']"
      ]
     },
     "execution_count": 61,
     "metadata": {},
     "output_type": "execute_result"
    }
   ],
   "source": [
    "list_1 = [\"A\", \"B\", \"C\"]\n",
    "list_2 = list_1\n",
    "list_3 = list_2\n",
    "\n",
    "list_1[:]"
   ]
  },
  {
   "cell_type": "code",
   "execution_count": 62,
   "metadata": {},
   "outputs": [
    {
     "name": "stdout",
     "output_type": "stream",
     "text": [
      "[]\n"
     ]
    }
   ],
   "source": [
    "list_1 = [\"A\", \"B\", \"C\"]\n",
    "list_2 = list_1\n",
    "list_3 = list_2\n",
    "del list_1[0]\n",
    "del list_2[:]\n",
    "print(list_3)"
   ]
  },
  {
   "cell_type": "code",
   "execution_count": 63,
   "metadata": {},
   "outputs": [
    {
     "name": "stdout",
     "output_type": "stream",
     "text": [
      "['A', 'B', 'C']\n"
     ]
    }
   ],
   "source": [
    "list_1 = [\"A\", \"B\", \"C\"]\n",
    "list_2 = list_1[:]\n",
    "list_3 = list_2[:]\n",
    "\n",
    "del list_1[0]\n",
    "del list_2[0]\n",
    "print(list_3)"
   ]
  },
  {
   "cell_type": "code",
   "execution_count": 64,
   "metadata": {},
   "outputs": [
    {
     "name": "stdout",
     "output_type": "stream",
     "text": [
      "True\n",
      "True\n",
      "True\n",
      "False\n"
     ]
    }
   ],
   "source": [
    "my_list = [1, 2, \"in\", True, \"ABC\"] \n",
    "print(1 in my_list) # outputs True \n",
    "print(\"A\" not in  my_list) # outputs True \n",
    "print(3 not in my_list) # outputs True \n",
    "print(False in my_list) # outputs False"
   ]
  },
  {
   "cell_type": "code",
   "execution_count": 65,
   "metadata": {},
   "outputs": [
    {
     "name": "stdout",
     "output_type": "stream",
     "text": [
      "['A', 'D', 'F', 'Z']\n"
     ]
    }
   ],
   "source": [
    "lst = [\"D\", \"F\", \"A\", \"Z\"]\n",
    "lst.sort()\n",
    "print(lst)"
   ]
  },
  {
   "cell_type": "code",
   "execution_count": 66,
   "metadata": {},
   "outputs": [
    {
     "name": "stdout",
     "output_type": "stream",
     "text": [
      "[1, 2, 3]\n"
     ]
    }
   ],
   "source": [
    "a = 3\n",
    "b = 1\n",
    "c = 2\n",
    "lst = [a, c, b]\n",
    "lst.sort()\n",
    "print(lst)"
   ]
  },
  {
   "cell_type": "code",
   "execution_count": 67,
   "metadata": {},
   "outputs": [
    {
     "name": "stdout",
     "output_type": "stream",
     "text": [
      "[' ', 'C', 'B', 'A']\n"
     ]
    }
   ],
   "source": [
    "a = \"A\"\n",
    "b = \"B\"\n",
    "c = \"C\"\n",
    "d = \" \"\n",
    "lst = [a, b, c, d]\n",
    "lst.reverse()\n",
    "print(lst)"
   ]
  },
  {
   "cell_type": "code",
   "execution_count": null,
   "metadata": {},
   "outputs": [],
   "source": [
    "lst = [\"123\",\"456\"]\n",
    "print(lst)\n",
    "lst.reverse()\n",
    "print(lst)"
   ]
  },
  {
   "cell_type": "code",
   "execution_count": 68,
   "metadata": {},
   "outputs": [
    {
     "name": "stdout",
     "output_type": "stream",
     "text": [
      "[1, 2, 4, 4, 1, 4, 2, 6, 2, 9]\n",
      "The list after removing duplicates :  [1, 2, 4, 6, 9]\n"
     ]
    }
   ],
   "source": [
    "# 3.9\n",
    "\n",
    "my_list = [1, 2, 4, 4, 1, 4, 2, 6, 2, 9]\n",
    "print (my_list)\n",
    " \n",
    "res = []\n",
    "for i in my_list:\n",
    "    if i not in res:\n",
    "        res.append(i)\n",
    " \n",
    "print (\"The list after removing duplicates : \",res)"
   ]
  },
  {
   "cell_type": "code",
   "execution_count": 69,
   "metadata": {},
   "outputs": [
    {
     "name": "stdout",
     "output_type": "stream",
     "text": [
      "2 3 5 7 11 13 17 19 "
     ]
    }
   ],
   "source": [
    "# 3.10\n",
    "\n",
    "\n",
    "def is_prime(num):\n",
    "    for i in range(2,num):\n",
    "        if(num % i == 0):\n",
    "            return False\n",
    "            break\n",
    "    else: return True\n",
    "\n",
    "for i in range(1, 20):\n",
    "    if is_prime(i + 1):\n",
    "        print(i + 1, end=\" \")\n"
   ]
  },
  {
   "cell_type": "code",
   "execution_count": 78,
   "metadata": {},
   "outputs": [
    {
     "name": "stdout",
     "output_type": "stream",
     "text": [
      "3.9007393587617467\n",
      "7.490910297239916\n",
      "10.009131205673757\n"
     ]
    }
   ],
   "source": [
    "# 3.11\n",
    "\n",
    "# 1 American mile = 1609.344 metres\n",
    "# 1 American gallon = 3.785411784 litres.\n",
    "# 100 kmre elég üzemanyag\n",
    "# 1 mérföldre elég üzemanyag\n",
    "\n",
    "#100kmre ennyi liter\n",
    "def liters_100km_to_miles_gallon(liters):\n",
    "    return 0\n",
    "\n",
    "# 1 gallonból ennyi mérföld\n",
    "def miles_gallon_to_liters_100km(miles):\n",
    "    #1 gallonból ennyi méter\n",
    "    meter = miles * 1609.344\n",
    "\n",
    "    #1 gallonból ennyi km\n",
    "    km = meter / 1000\n",
    "\n",
    "    #1 literből ennyi km\n",
    "    liter = km / 3.785411784\n",
    "\n",
    "    # 100kmre ennyi liter\n",
    "    res = 100 / liter\n",
    "    return res\n",
    "\n",
    "# print(liters_100km_to_miles_gallon(3.9))\n",
    "# print(liters_100km_to_miles_gallon(7.5))\n",
    "# print(liters_100km_to_miles_gallon(10.))\n",
    "print(miles_gallon_to_liters_100km(60.3))\n",
    "print(miles_gallon_to_liters_100km(31.4))\n",
    "print(miles_gallon_to_liters_100km(23.5))\n",
    "\n"
   ]
  },
  {
   "cell_type": "code",
   "execution_count": 71,
   "metadata": {},
   "outputs": [
    {
     "name": "stdout",
     "output_type": "stream",
     "text": [
      "hi!\n"
     ]
    }
   ],
   "source": [
    "\n",
    "def hi():\n",
    "    print(\"hi!\")\n",
    "hi()"
   ]
  },
  {
   "cell_type": "code",
   "execution_count": 73,
   "metadata": {},
   "outputs": [],
   "source": [
    "def hi():\n",
    "    return\n",
    "    print(\"Hi!\")\n",
    "hi()\n"
   ]
  },
  {
   "cell_type": "code",
   "execution_count": 74,
   "metadata": {},
   "outputs": [
    {
     "name": "stdout",
     "output_type": "stream",
     "text": [
      "My name is Bond. James Bond.\n"
     ]
    }
   ],
   "source": [
    "def intro(a=\"James Bond\", b=\"Bond\"):\n",
    "    print(\"My name is\", b + \".\", a + \".\")\n",
    "intro()\n"
   ]
  },
  {
   "cell_type": "code",
   "execution_count": 80,
   "metadata": {},
   "outputs": [
    {
     "ename": "SyntaxError",
     "evalue": "non-default argument follows default argument (91131370.py, line 3)",
     "output_type": "error",
     "traceback": [
      "\u001b[1;36m  Cell \u001b[1;32mIn[80], line 3\u001b[1;36m\u001b[0m\n\u001b[1;33m    def add_numbers(a,b=2,c):\u001b[0m\n\u001b[1;37m                          ^\u001b[0m\n\u001b[1;31mSyntaxError\u001b[0m\u001b[1;31m:\u001b[0m non-default argument follows default argument\n"
     ]
    }
   ],
   "source": [
    "## a,c,b\n",
    "\n",
    "def add_numbers(a,b=2,c):\n",
    "    print(a + b + c)\n",
    "\n",
    "add_numbers(a=1, c=3)"
   ]
  },
  {
   "cell_type": "code",
   "execution_count": 75,
   "metadata": {},
   "outputs": [
    {
     "name": "stdout",
     "output_type": "stream",
     "text": [
      "6\n"
     ]
    }
   ],
   "source": [
    "## a,c,b\n",
    "\n",
    "def add_numbers(a, c, b=2):\n",
    "    print(a + b + c)\n",
    "\n",
    "add_numbers(a=1, c=3)"
   ]
  },
  {
   "cell_type": "code",
   "execution_count": 82,
   "metadata": {},
   "outputs": [
    {
     "name": "stdout",
     "output_type": "stream",
     "text": [
      "True\n",
      "False\n",
      "None\n"
     ]
    }
   ],
   "source": [
    "def is_int(data):\n",
    "    if type(data) == int:\n",
    "        return True\n",
    "    elif type(data) == float:\n",
    "        return False\n",
    "    return\n",
    "\n",
    "print(is_int(5))\n",
    "print(is_int(5.0))\n",
    "print(is_int(\"5\"))\n"
   ]
  },
  {
   "cell_type": "code",
   "execution_count": 83,
   "metadata": {},
   "outputs": [
    {
     "ename": "NameError",
     "evalue": "name 'alt' is not defined",
     "output_type": "error",
     "traceback": [
      "\u001b[1;31m---------------------------------------------------------------------------\u001b[0m",
      "\u001b[1;31mNameError\u001b[0m                                 Traceback (most recent call last)",
      "Cell \u001b[1;32mIn[83], line 6\u001b[0m\n\u001b[0;32m      3\u001b[0m     \u001b[39mprint\u001b[39m(\u001b[39m\"\u001b[39m\u001b[39mHello, World!\u001b[39m\u001b[39m\"\u001b[39m)\n\u001b[0;32m      4\u001b[0m     \u001b[39mreturn\u001b[39;00m\n\u001b[1;32m----> 6\u001b[0m \u001b[39mprint\u001b[39m(alt)\n",
      "\u001b[1;31mNameError\u001b[0m: name 'alt' is not defined"
     ]
    }
   ],
   "source": [
    "def message():\n",
    "    alt = 1\n",
    "    print(\"Hello, World!\")\n",
    "    return\n",
    "    \n",
    "print(alt)"
   ]
  }
 ],
 "metadata": {
  "kernelspec": {
   "display_name": "Python 3.10.7 64-bit",
   "language": "python",
   "name": "python3"
  },
  "language_info": {
   "codemirror_mode": {
    "name": "ipython",
    "version": 3
   },
   "file_extension": ".py",
   "mimetype": "text/x-python",
   "name": "python",
   "nbconvert_exporter": "python",
   "pygments_lexer": "ipython3",
   "version": "3.11.2"
  },
  "orig_nbformat": 4,
  "vscode": {
   "interpreter": {
    "hash": "9b498ddd32e55b68d534c76e0a5db03787c5ee4a44567ad11658840a85200637"
   }
  }
 },
 "nbformat": 4,
 "nbformat_minor": 2
}
