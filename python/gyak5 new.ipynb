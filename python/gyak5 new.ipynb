{
 "cells": [
  {
   "cell_type": "code",
   "execution_count": 25,
   "metadata": {},
   "outputs": [
    {
     "ename": "ZeroDivisionError",
     "evalue": "division by zero",
     "output_type": "error",
     "traceback": [
      "\u001b[1;31m---------------------------------------------------------------------------\u001b[0m",
      "\u001b[1;31mZeroDivisionError\u001b[0m                         Traceback (most recent call last)",
      "Cell \u001b[1;32mIn[25], line 1\u001b[0m\n\u001b[1;32m----> 1\u001b[0m \u001b[39mprint\u001b[39m(\u001b[39m1\u001b[39;49m\u001b[39m/\u001b[39;49m\u001b[39m0\u001b[39;49m)\n",
      "\u001b[1;31mZeroDivisionError\u001b[0m: division by zero"
     ]
    }
   ],
   "source": [
    "print(1/0)"
   ]
  },
  {
   "cell_type": "code",
   "execution_count": 26,
   "metadata": {},
   "outputs": [
    {
     "name": "stdout",
     "output_type": "stream",
     "text": [
      "zero\n"
     ]
    }
   ],
   "source": [
    "try:\n",
    "    print(1/0)\n",
    "except ZeroDivisionError:\n",
    "    print(\"zero\")\n",
    "except ArithmeticError:\n",
    "    print(\"arith\")\n",
    "except:\n",
    "    print(\"some\")\n"
   ]
  },
  {
   "cell_type": "code",
   "execution_count": 27,
   "metadata": {},
   "outputs": [
    {
     "name": "stdout",
     "output_type": "stream",
     "text": [
      "arith\n"
     ]
    }
   ],
   "source": [
    "try:\n",
    "    print(1/0)\n",
    "except ArithmeticError:\n",
    "    print(\"arith\")\n",
    "except ZeroDivisionError:\n",
    "    print(\"zero\")\n",
    "except:\n",
    "    print(\"some\")"
   ]
  },
  {
   "cell_type": "code",
   "execution_count": 4,
   "metadata": {},
   "outputs": [
    {
     "name": "stdout",
     "output_type": "stream",
     "text": [
      "Hello 1\n",
      "some\n"
     ]
    }
   ],
   "source": [
    "#assert\n",
    "\n",
    "def foo(x):\n",
    "    print(\"Hello 1\")\n",
    "    assert x\n",
    "    print(\"Hello 2\")\n",
    "    return 1/x\n",
    "try:\n",
    "    print(foo(0))\n",
    "except ZeroDivisionError:\n",
    "    print(\"zero\")\n",
    "except:\n",
    "    print(\"some\")"
   ]
  },
  {
   "cell_type": "code",
   "execution_count": 28,
   "metadata": {},
   "outputs": [
    {
     "name": "stdout",
     "output_type": "stream",
     "text": [
      "Nothing happens\n"
     ]
    },
    {
     "ename": "AssertionError",
     "evalue": "",
     "output_type": "error",
     "traceback": [
      "\u001b[1;31m---------------------------------------------------------------------------\u001b[0m",
      "\u001b[1;31mAssertionError\u001b[0m                            Traceback (most recent call last)",
      "Cell \u001b[1;32mIn[28], line 8\u001b[0m\n\u001b[0;32m      5\u001b[0m \u001b[39mprint\u001b[39m(\u001b[39m\"\u001b[39m\u001b[39mNothing happens\u001b[39m\u001b[39m\"\u001b[39m)\n\u001b[0;32m      7\u001b[0m \u001b[39m#if condition returns False, AssertionError is raised:\u001b[39;00m\n\u001b[1;32m----> 8\u001b[0m \u001b[39massert\u001b[39;00m x \u001b[39m==\u001b[39m \u001b[39m\"\u001b[39m\u001b[39mgoodbye\u001b[39m\u001b[39m\"\u001b[39m\n",
      "\u001b[1;31mAssertionError\u001b[0m: "
     ]
    }
   ],
   "source": [
    "x = \"hello\"\n",
    "\n",
    "#if condition returns True, then nothing happens:\n",
    "assert x == \"hello\"\n",
    "print(\"Nothing happens\")\n",
    "\n",
    "#if condition returns False, AssertionError is raised:\n",
    "assert x == \"goodbye\""
   ]
  },
  {
   "cell_type": "code",
   "execution_count": 6,
   "metadata": {},
   "outputs": [
    {
     "name": "stdout",
     "output_type": "stream",
     "text": [
      "Everything went fine\n",
      "It's time to say goodbye\n",
      "0.5 \n",
      "\n",
      "Division failed\n",
      "It's time to say goodbye\n",
      "None\n"
     ]
    }
   ],
   "source": [
    "def reciprocal(n):\n",
    "    try:\n",
    "        n = 1 / n\n",
    "    except ZeroDivisionError:\n",
    "        print(\"Division failed\")\n",
    "        n = None\n",
    "    else:\n",
    "        print(\"Everything went fine\")\n",
    "    finally:\n",
    "        print(\"It's time to say goodbye\")\n",
    "        return n\n",
    "        \n",
    "print(reciprocal(2),\"\\n\")\n",
    "\n",
    "print(reciprocal(0))"
   ]
  },
  {
   "cell_type": "code",
   "execution_count": 7,
   "metadata": {},
   "outputs": [
    {
     "name": "stdout",
     "output_type": "stream",
     "text": [
      "invalid literal for int() with base 10: 'Hello!'\n",
      "invalid literal for int() with base 10: 'Hello!'\n"
     ]
    }
   ],
   "source": [
    "try:\n",
    "    i = int(\"Hello!\")\n",
    "except Exception as e:\n",
    "    print(e)\n",
    "    print(e.__str__())\n"
   ]
  },
  {
   "cell_type": "code",
   "execution_count": 8,
   "metadata": {},
   "outputs": [
    {
     "name": "stdout",
     "output_type": "stream",
     "text": [
      "BaseException\n",
      " +---BaseExceptionGroup\n",
      " | +---ExceptionGroup\n",
      " +---Exception\n",
      " | +---ArithmeticError\n",
      " | | +---FloatingPointError\n",
      " | | +---OverflowError\n",
      " | | +---ZeroDivisionError\n",
      " | | | +---DivisionByZero\n",
      " | | | +---DivisionUndefined\n",
      " | | +---DecimalException\n",
      " | | | +---Clamped\n",
      " | | | +---Rounded\n",
      " | | | | +---Underflow\n",
      " | | | | +---Overflow\n",
      " | | | +---Inexact\n",
      " | | | | +---Underflow\n",
      " | | | | +---Overflow\n",
      " | | | +---Subnormal\n",
      " | | | | +---Underflow\n",
      " | | | +---DivisionByZero\n",
      " | | | +---FloatOperation\n",
      " | | | +---InvalidOperation\n",
      " | | | | +---ConversionSyntax\n",
      " | | | | +---DivisionImpossible\n",
      " | | | | +---DivisionUndefined\n",
      " | | | | +---InvalidContext\n",
      " | +---AssertionError\n",
      " | +---AttributeError\n",
      " | | +---FrozenInstanceError\n",
      " | +---BufferError\n",
      " | +---EOFError\n",
      " | | +---IncompleteReadError\n",
      " | +---ImportError\n",
      " | | +---ModuleNotFoundError\n",
      " | | +---ZipImportError\n",
      " | +---LookupError\n",
      " | | +---IndexError\n",
      " | | +---KeyError\n",
      " | | | +---NoSuchKernel\n",
      " | | | +---UnknownBackend\n",
      " | | +---CodecRegistryError\n",
      " | +---MemoryError\n",
      " | +---NameError\n",
      " | | +---UnboundLocalError\n",
      " | +---OSError\n",
      " | | +---BlockingIOError\n",
      " | | +---ChildProcessError\n",
      " | | +---ConnectionError\n",
      " | | | +---BrokenPipeError\n",
      " | | | +---ConnectionAbortedError\n",
      " | | | +---ConnectionRefusedError\n",
      " | | | +---ConnectionResetError\n",
      " | | | | +---RemoteDisconnected\n",
      " | | +---FileExistsError\n",
      " | | +---FileNotFoundError\n",
      " | | +---InterruptedError\n",
      " | | | +---InterruptedSystemCall\n",
      " | | +---IsADirectoryError\n",
      " | | +---NotADirectoryError\n",
      " | | +---PermissionError\n",
      " | | +---ProcessLookupError\n",
      " | | +---TimeoutError\n",
      " | | +---UnsupportedOperation\n",
      " | | +---herror\n",
      " | | +---gaierror\n",
      " | | +---SSLError\n",
      " | | | +---SSLCertVerificationError\n",
      " | | | +---SSLZeroReturnError\n",
      " | | | +---SSLWantWriteError\n",
      " | | | +---SSLWantReadError\n",
      " | | | +---SSLSyscallError\n",
      " | | | +---SSLEOFError\n",
      " | | +---Error\n",
      " | | | +---SameFileError\n",
      " | | +---SpecialFileError\n",
      " | | +---ExecError\n",
      " | | +---ReadError\n",
      " | | +---URLError\n",
      " | | | +---HTTPError\n",
      " | | | +---ContentTooShortError\n",
      " | | +---BadGzipFile\n",
      " | +---ReferenceError\n",
      " | +---RuntimeError\n",
      " | | +---NotImplementedError\n",
      " | | | +---ZMQVersionError\n",
      " | | | +---StdinNotImplementedError\n",
      " | | +---RecursionError\n",
      " | | +---_DeadlockError\n",
      " | | +---BrokenBarrierError\n",
      " | | +---BrokenExecutor\n",
      " | | | +---BrokenThreadPool\n",
      " | | +---SendfileNotAvailableError\n",
      " | | +---BrokenBarrierError\n",
      " | | +---ExtractionError\n",
      " | | +---VariableError\n",
      " | +---StopAsyncIteration\n",
      " | +---StopIteration\n",
      " | +---SyntaxError\n",
      " | | +---IndentationError\n",
      " | | | +---TabError\n",
      " | +---SystemError\n",
      " | | +---CodecRegistryError\n",
      " | +---TypeError\n",
      " | | +---FloatOperation\n",
      " | | +---MultipartConversionError\n",
      " | +---ValueError\n",
      " | | +---UnicodeError\n",
      " | | | +---UnicodeDecodeError\n",
      " | | | +---UnicodeEncodeError\n",
      " | | | +---UnicodeTranslateError\n",
      " | | +---UnsupportedOperation\n",
      " | | +---JSONDecodeError\n",
      " | | +---SSLCertVerificationError\n",
      " | | +---Error\n",
      " | | +---UnsupportedDigestmodError\n",
      " | | +---IllegalMonthError\n",
      " | | +---IllegalWeekdayError\n",
      " | | +---ParserError\n",
      " | | +---ClassNotFound\n",
      " | | +---ClipboardEmpty\n",
      " | | +---MessageDefect\n",
      " | | | +---NoBoundaryInMultipartDefect\n",
      " | | | +---StartBoundaryNotFoundDefect\n",
      " | | | +---CloseBoundaryNotFoundDefect\n",
      " | | | +---FirstHeaderLineIsContinuationDefect\n",
      " | | | +---MisplacedEnvelopeHeaderDefect\n",
      " | | | +---MissingHeaderBodySeparatorDefect\n",
      " | | | +---MultipartInvariantViolationDefect\n",
      " | | | +---InvalidMultipartContentTransferEncodingDefect\n",
      " | | | +---UndecodableBytesDefect\n",
      " | | | +---InvalidBase64PaddingDefect\n",
      " | | | +---InvalidBase64CharactersDefect\n",
      " | | | +---InvalidBase64LengthDefect\n",
      " | | | +---HeaderDefect\n",
      " | | | | +---InvalidHeaderDefect\n",
      " | | | | +---HeaderMissingRequiredValue\n",
      " | | | | +---NonPrintableDefect\n",
      " | | | | +---ObsoleteHeaderDefect\n",
      " | | | | +---NonASCIILocalPartDefect\n",
      " | | | | +---InvalidDateDefect\n",
      " | | +---MacroToEdit\n",
      " | | +---InvalidFileException\n",
      " | | +---UnequalIterablesError\n",
      " | | +---InvalidVersion\n",
      " | | +---_InvalidELFFileHeader\n",
      " | | +---InvalidWheelFilename\n",
      " | | +---InvalidSdistFilename\n",
      " | | +---InvalidSpecifier\n",
      " | | +---InvalidMarker\n",
      " | | +---UndefinedComparison\n",
      " | | +---UndefinedEnvironmentName\n",
      " | | +---InvalidRequirement\n",
      " | | | +---RequirementParseError\n",
      " | | +---InvalidVersion\n",
      " | +---Warning\n",
      " | | +---BytesWarning\n",
      " | | +---DeprecationWarning\n",
      " | | | +---ProvisionalWarning\n",
      " | | +---EncodingWarning\n",
      " | | +---FutureWarning\n",
      " | | | +---ProvisionalCompleterWarning\n",
      " | | +---ImportWarning\n",
      " | | +---PendingDeprecationWarning\n",
      " | | +---ResourceWarning\n",
      " | | +---RuntimeWarning\n",
      " | | | +---ProactorSelectorThreadWarning\n",
      " | | | +---UnknownTimezoneWarning\n",
      " | | | +---PEP440Warning\n",
      " | | +---SyntaxWarning\n",
      " | | +---UnicodeWarning\n",
      " | | +---UserWarning\n",
      " | | | +---GetPassWarning\n",
      " | | | +---FormatterWarning\n",
      " | | +---DeprecatedTzFormatWarning\n",
      " | | +---PkgResourcesDeprecationWarning\n",
      " | +---ExceptionGroup\n",
      " | +---_OptionError\n",
      " | +---_Error\n",
      " | +---error\n",
      " | +---Error\n",
      " | +---SubprocessError\n",
      " | | +---CalledProcessError\n",
      " | | +---TimeoutExpired\n",
      " | +---TokenError\n",
      " | +---StopTokenizing\n",
      " | +---ClassFoundException\n",
      " | +---EndOfBlock\n",
      " | +---TraitError\n",
      " | +---Error\n",
      " | +---Error\n",
      " | | +---CancelledError\n",
      " | | +---InvalidStateError\n",
      " | +---_GiveupOnSendfile\n",
      " | +---error\n",
      " | +---Incomplete\n",
      " | +---InvalidStateError\n",
      " | +---LimitOverrunError\n",
      " | +---QueueEmpty\n",
      " | +---QueueFull\n",
      " | +---error\n",
      " | +---LZMAError\n",
      " | +---RegistryError\n",
      " | +---_GiveupOnFastCopy\n",
      " | +---Empty\n",
      " | +---Full\n",
      " | +---ZMQBaseError\n",
      " | | +---ZMQError\n",
      " | | | +---ContextTerminated\n",
      " | | | +---Again\n",
      " | | | +---InterruptedSystemCall\n",
      " | | +---ZMQBindError\n",
      " | | +---NotDone\n",
      " | +---PickleError\n",
      " | | +---PicklingError\n",
      " | | +---UnpicklingError\n",
      " | +---_Stop\n",
      " | +---ArgumentError\n",
      " | +---ArgumentTypeError\n",
      " | +---ConfigError\n",
      " | | +---ConfigLoaderError\n",
      " | | | +---ArgumentError\n",
      " | | +---ConfigFileNotFound\n",
      " | +---ConfigurableError\n",
      " | | +---MultipleInstanceError\n",
      " | +---ApplicationError\n",
      " | +---ArgumentError\n",
      " | +---COMError\n",
      " | +---ReturnValueIgnoredError\n",
      " | +---KeyReuseError\n",
      " | +---UnknownKeyError\n",
      " | +---LeakedCallbackError\n",
      " | +---BadYieldError\n",
      " | +---ReturnValueIgnoredError\n",
      " | +---Return\n",
      " | +---InvalidPortNumber\n",
      " | +---NoIPAddresses\n",
      " | +---BadZipFile\n",
      " | +---LargeZipFile\n",
      " | +---Error\n",
      " | | +---NoSectionError\n",
      " | | +---DuplicateSectionError\n",
      " | | +---DuplicateOptionError\n",
      " | | +---NoOptionError\n",
      " | | +---InterpolationError\n",
      " | | | +---InterpolationMissingOptionError\n",
      " | | | +---InterpolationSyntaxError\n",
      " | | | +---InterpolationDepthError\n",
      " | | +---ParsingError\n",
      " | | | +---MissingSectionHeaderError\n",
      " | +---BadEntryPoint\n",
      " | +---NoSuchEntryPoint\n",
      " | +---DuplicateKernelError\n",
      " | +---ErrorDuringImport\n",
      " | +---NotOneValueFound\n",
      " | +---KnownIssue\n",
      " | +---VerifierFailure\n",
      " | +---CannotEval\n",
      " | +---OptionError\n",
      " | +---BdbQuit\n",
      " | +---Restart\n",
      " | +---FindCmdError\n",
      " | +---HomeDirError\n",
      " | +---ProfileDirError\n",
      " | +---IPythonCoreError\n",
      " | | +---TryNext\n",
      " | | +---UsageError\n",
      " | | +---StdinNotImplementedError\n",
      " | +---InputRejected\n",
      " | +---GetoptError\n",
      " | +---ErrorToken\n",
      " | +---PrefilterError\n",
      " | +---AliasError\n",
      " | | +---InvalidAliasError\n",
      " | +---Error\n",
      " | | +---InterfaceError\n",
      " | | +---DatabaseError\n",
      " | | | +---InternalError\n",
      " | | | +---OperationalError\n",
      " | | | +---ProgrammingError\n",
      " | | | +---IntegrityError\n",
      " | | | +---DataError\n",
      " | | | +---NotSupportedError\n",
      " | +---Warning\n",
      " | +---SpaceInInput\n",
      " | +---DOMException\n",
      " | | +---IndexSizeErr\n",
      " | | +---DomstringSizeErr\n",
      " | | +---HierarchyRequestErr\n",
      " | | +---WrongDocumentErr\n",
      " | | +---InvalidCharacterErr\n",
      " | | +---NoDataAllowedErr\n",
      " | | +---NoModificationAllowedErr\n",
      " | | +---NotFoundErr\n",
      " | | +---NotSupportedErr\n",
      " | | +---InuseAttributeErr\n",
      " | | +---InvalidStateErr\n",
      " | | +---SyntaxErr\n",
      " | | +---InvalidModificationErr\n",
      " | | +---NamespaceErr\n",
      " | | +---InvalidAccessErr\n",
      " | | +---ValidationErr\n",
      " | +---ValidationError\n",
      " | +---EditReadOnlyBuffer\n",
      " | +---_Retry\n",
      " | +---InvalidLayoutError\n",
      " | +---HeightIsUnknownError\n",
      " | +---GuardRejection\n",
      " | +---ParserSyntaxError\n",
      " | +---InternalParseError\n",
      " | +---_PositionUpdatingFinished\n",
      " | +---SimpleGetItemNotFound\n",
      " | +---UncaughtAttributeError\n",
      " | +---HasNoContext\n",
      " | +---ParamIssue\n",
      " | +---_JediError\n",
      " | | +---InternalError\n",
      " | | +---WrongVersion\n",
      " | | +---RefactoringError\n",
      " | +---OnErrorLeaf\n",
      " | +---InvalidPythonEnvironment\n",
      " | +---MessageError\n",
      " | | +---MessageParseError\n",
      " | | | +---HeaderParseError\n",
      " | | | +---BoundaryError\n",
      " | | +---MultipartConversionError\n",
      " | | +---CharsetError\n",
      " | +---HTTPException\n",
      " | | +---NotConnected\n",
      " | | +---InvalidURL\n",
      " | | +---UnknownProtocol\n",
      " | | +---UnknownTransferEncoding\n",
      " | | +---UnimplementedFileMode\n",
      " | | +---IncompleteRead\n",
      " | | +---ImproperConnectionState\n",
      " | | | +---CannotSendRequest\n",
      " | | | +---CannotSendHeader\n",
      " | | | +---ResponseNotReady\n",
      " | | +---BadStatusLine\n",
      " | | | +---RemoteDisconnected\n",
      " | | +---LineTooLong\n",
      " | +---InteractivelyDefined\n",
      " | +---KillEmbedded\n",
      " | +---Error\n",
      " | | +---NoSuchProcess\n",
      " | | | +---ZombieProcess\n",
      " | | +---AccessDenied\n",
      " | | +---TimeoutExpired\n",
      " | +---Error\n",
      " | +---TimeoutExpired\n",
      " | +---TimeoutAbandoned\n",
      " | +---QueueEmpty\n",
      " | +---QueueFull\n",
      " | +---DebuggerInitializationError\n",
      " | +---ExpatError\n",
      " | +---Error\n",
      " | | +---ProtocolError\n",
      " | | +---ResponseError\n",
      " | | +---Fault\n",
      " | +---error\n",
      " | +---com_error\n",
      " | +---internal_error\n",
      " | +---ParseBaseException\n",
      " | | +---ParseException\n",
      " | | +---ParseFatalException\n",
      " | | | +---ParseSyntaxException\n",
      " | +---RecursiveGrammarException\n",
      " | +---ResolutionError\n",
      " | | +---VersionConflict\n",
      " | | | +---ContextualVersionConflict\n",
      " | | +---DistributionNotFound\n",
      " | | +---UnknownExtra\n",
      " | +---_Error\n",
      " | +---UnableToResolveVariableException\n",
      " | +---InvalidTypeInArgsException\n",
      " +---GeneratorExit\n",
      " +---KeyboardInterrupt\n",
      " +---SystemExit\n",
      " +---CancelledError\n",
      " +---AbortThread\n"
     ]
    }
   ],
   "source": [
    "def print_exception_tree(thisclass, nest = 0):\n",
    "    if nest > 1:\n",
    "        print(\" |\" * (nest - 1), end=\"\")\n",
    "    if nest > 0:\n",
    "        print(\" +---\", end=\"\")\n",
    "\n",
    "    print(thisclass.__name__)\n",
    "\n",
    "    for subclass in thisclass.__subclasses__():\n",
    "        print_exception_tree(subclass, nest + 1)\n",
    "\n",
    "print_exception_tree(BaseException)"
   ]
  },
  {
   "cell_type": "code",
   "execution_count": 9,
   "metadata": {},
   "outputs": [
    {
     "data": {
      "text/plain": [
       "uname_result(system='Windows', node='Stratis-337', release='10', version='10.0.22621', machine='AMD64')"
      ]
     },
     "execution_count": 9,
     "metadata": {},
     "output_type": "execute_result"
    }
   ],
   "source": [
    "import platform\n",
    "platform.uname()"
   ]
  },
  {
   "cell_type": "code",
   "execution_count": 10,
   "metadata": {},
   "outputs": [
    {
     "name": "stdout",
     "output_type": "stream",
     "text": [
      "['1.3.2.9 Lab - Take the Python Challenge.ipynb', 'Ch2.zip', 'Ch3.zip', 'Ch4.zip', 'Ch5.zip', 'gyak2.ipynb', 'gyak3.ipynb', 'gyak4.ipynb', 'gyak5 new.ipynb', 'gyak5.ipynb', 'gyak6.ipynb', 'my_first_directory']\n"
     ]
    }
   ],
   "source": [
    "import os\n",
    "os.mkdir(\"my_first_directory\")\n",
    "print(os.listdir())"
   ]
  },
  {
   "cell_type": "code",
   "execution_count": 11,
   "metadata": {},
   "outputs": [
    {
     "name": "stdout",
     "output_type": "stream",
     "text": [
      "['my_second_directory']\n"
     ]
    }
   ],
   "source": [
    "os.makedirs(\"my_first_directory/my_second_directory\")\n",
    "os.chdir(\"my_first_directory\")\n",
    "print(os.listdir())"
   ]
  },
  {
   "cell_type": "code",
   "execution_count": 12,
   "metadata": {},
   "outputs": [
    {
     "name": "stdout",
     "output_type": "stream",
     "text": [
      "c:\\Users\\jozsef.szendrei\\Desktop\\Python gyak 23 tavasz\\Python gyak 23 tavasz\\Kódok\\my_first_directory\\my_first_directory\n",
      "c:\\Users\\jozsef.szendrei\\Desktop\\Python gyak 23 tavasz\\Python gyak 23 tavasz\\Kódok\\my_first_directory\\my_first_directory\\my_second_directory\n"
     ]
    }
   ],
   "source": [
    "os.makedirs(\"my_first_directory/my_second_directory\")\n",
    "os.chdir(\"my_first_directory\")\n",
    "print(os.getcwd())\n",
    "os.chdir(\"my_second_directory\")\n",
    "print(os.getcwd())\n"
   ]
  },
  {
   "cell_type": "code",
   "execution_count": 13,
   "metadata": {},
   "outputs": [
    {
     "name": "stdout",
     "output_type": "stream",
     "text": [
      "['my_first_directory']\n",
      "[]\n"
     ]
    }
   ],
   "source": [
    "os.mkdir(\"my_first_directory\")\n",
    "print(os.listdir())\n",
    "os.rmdir(\"my_first_directory\")\n",
    "print(os.listdir())\n"
   ]
  },
  {
   "cell_type": "code",
   "execution_count": 29,
   "metadata": {},
   "outputs": [
    {
     "name": "stdout",
     "output_type": "stream",
     "text": [
      "Today: 2023-03-27\n",
      "Year: 2023\n",
      "Month: 3\n",
      "Day: 27\n"
     ]
    },
    {
     "data": {
      "text/plain": [
       "datetime.date"
      ]
     },
     "execution_count": 29,
     "metadata": {},
     "output_type": "execute_result"
    }
   ],
   "source": [
    "from datetime import date\n",
    "today = date.today()\n",
    "print(\"Today:\", today)\n",
    "print(\"Year:\", today.year)\n",
    "print(\"Month:\", today.month)\n",
    "print(\"Day:\", today.day)\n",
    "\n",
    "type(today)\n"
   ]
  },
  {
   "cell_type": "code",
   "execution_count": 51,
   "metadata": {},
   "outputs": [
    {
     "name": "stdout",
     "output_type": "stream",
     "text": [
      "Timestamp: 1679923310.434963\n",
      "Date: 2023-03-27\n"
     ]
    }
   ],
   "source": [
    "from datetime import date\n",
    "import time\n",
    "timestamp = time.time()\n",
    "print(\"Timestamp:\", timestamp)\n",
    "d = date.fromtimestamp(timestamp)\n",
    "print(\"Date:\", d)\n",
    "\n"
   ]
  },
  {
   "cell_type": "code",
   "execution_count": 52,
   "metadata": {},
   "outputs": [
    {
     "name": "stdout",
     "output_type": "stream",
     "text": [
      "2019-11-04\n"
     ]
    }
   ],
   "source": [
    "from datetime import date\n",
    "d = date.fromisoformat('2019-11-04')\n",
    "print(d)\n"
   ]
  },
  {
   "cell_type": "code",
   "execution_count": 55,
   "metadata": {},
   "outputs": [
    {
     "name": "stdout",
     "output_type": "stream",
     "text": [
      "4\n"
     ]
    }
   ],
   "source": [
    "from datetime import date \n",
    "d= date(2000,3, 31)\n",
    "print(d.weekday())"
   ]
  },
  {
   "cell_type": "code",
   "execution_count": 18,
   "metadata": {},
   "outputs": [
    {
     "name": "stdout",
     "output_type": "stream",
     "text": [
      "Time: 14:53:20.000001\n",
      "Hour: 14\n",
      "Minute: 53\n",
      "Second: 20\n",
      "Microsecond: 1\n"
     ]
    }
   ],
   "source": [
    "from datetime import time\n",
    "t = time(14, 53, 20, 1)\n",
    "print(\"Time:\", t)\n",
    "print(\"Hour:\", t.hour)\n",
    "print(\"Minute:\", t.minute)\n",
    "print(\"Second:\", t.second)\n",
    "print(\"Microsecond:\", t.microsecond)"
   ]
  },
  {
   "cell_type": "code",
   "execution_count": 69,
   "metadata": {},
   "outputs": [
    {
     "name": "stdout",
     "output_type": "stream",
     "text": [
      "now: 2023-03-27 15:27:41.008878\n",
      "Datetime: 2010-06-01 00:00:00\n",
      "Datetime Timestamp: 1275343200.0\n",
      "Timestamp: 2674800\n",
      "Dif: 30\n"
     ]
    }
   ],
   "source": [
    "from datetime import datetime\n",
    "dtn = datetime.now()\n",
    "print(\"now:\",dtn)\n",
    "\n",
    "dt = datetime(2010, 6, 1, 0, 0)\n",
    "dto = datetime(1970, 2, 1, 0, 0)\n",
    "\n",
    "print(\"Datetime:\",dt)\n",
    "\n",
    "print(\"Datetime Timestamp:\", dt.timestamp())\n",
    "\n",
    "print(\"Timestamp:\", int(dto.timestamp()))\n",
    "\n",
    "print(\"Dif:\",int(dto.timestamp() / 86400))\n"
   ]
  },
  {
   "cell_type": "code",
   "execution_count": 20,
   "metadata": {},
   "outputs": [
    {
     "name": "stdout",
     "output_type": "stream",
     "text": [
      "The date and time is: 2166-12-17 06:01:14.343434\n",
      "The date and time is: 1970-01-01 01:00:00\n"
     ]
    }
   ],
   "source": [
    "from datetime import datetime  \n",
    "time_stamp = 6215461274.343434\n",
    "custom_stamp = 0.0\n",
    "\n",
    "date_time = datetime.fromtimestamp(time_stamp)\n",
    "custom_time = datetime.fromtimestamp(custom_stamp)\n",
    "\n",
    "print(\"The date and time is:\", date_time)\n",
    "print(\"The date and time is:\", custom_time)"
   ]
  },
  {
   "cell_type": "code",
   "execution_count": 72,
   "metadata": {},
   "outputs": [
    {
     "name": "stdout",
     "output_type": "stream",
     "text": [
      "14:53:00\n",
      "14:53:00\n",
      "22/October/19 14:53:00\n"
     ]
    }
   ],
   "source": [
    "from datetime import time\n",
    "from datetime import datetime\n",
    "t = time(14, 53)\n",
    "print(t)\n",
    "print(t.strftime(\"%H:%M:%S\"))\n",
    "\n",
    "dt = datetime(2022, 10, 19, 14, 53)\n",
    "print(dt.strftime(\"%y/%B/%d %H:%M:%S\"))"
   ]
  },
  {
   "cell_type": "code",
   "execution_count": 73,
   "metadata": {},
   "outputs": [
    {
     "name": "stdout",
     "output_type": "stream",
     "text": [
      "                                  2023\n",
      "\n",
      "      January                   February                   March\n",
      "Su Mo Tu We Th Fr Sa      Su Mo Tu We Th Fr Sa      Su Mo Tu We Th Fr Sa\n",
      " 1  2  3  4  5  6  7                1  2  3  4                1  2  3  4\n",
      " 8  9 10 11 12 13 14       5  6  7  8  9 10 11       5  6  7  8  9 10 11\n",
      "15 16 17 18 19 20 21      12 13 14 15 16 17 18      12 13 14 15 16 17 18\n",
      "22 23 24 25 26 27 28      19 20 21 22 23 24 25      19 20 21 22 23 24 25\n",
      "29 30 31                  26 27 28                  26 27 28 29 30 31\n",
      "\n",
      "       April                      May                       June\n",
      "Su Mo Tu We Th Fr Sa      Su Mo Tu We Th Fr Sa      Su Mo Tu We Th Fr Sa\n",
      "                   1          1  2  3  4  5  6                   1  2  3\n",
      " 2  3  4  5  6  7  8       7  8  9 10 11 12 13       4  5  6  7  8  9 10\n",
      " 9 10 11 12 13 14 15      14 15 16 17 18 19 20      11 12 13 14 15 16 17\n",
      "16 17 18 19 20 21 22      21 22 23 24 25 26 27      18 19 20 21 22 23 24\n",
      "23 24 25 26 27 28 29      28 29 30 31               25 26 27 28 29 30\n",
      "30\n",
      "\n",
      "        July                     August                  September\n",
      "Su Mo Tu We Th Fr Sa      Su Mo Tu We Th Fr Sa      Su Mo Tu We Th Fr Sa\n",
      "                   1             1  2  3  4  5                      1  2\n",
      " 2  3  4  5  6  7  8       6  7  8  9 10 11 12       3  4  5  6  7  8  9\n",
      " 9 10 11 12 13 14 15      13 14 15 16 17 18 19      10 11 12 13 14 15 16\n",
      "16 17 18 19 20 21 22      20 21 22 23 24 25 26      17 18 19 20 21 22 23\n",
      "23 24 25 26 27 28 29      27 28 29 30 31            24 25 26 27 28 29 30\n",
      "30 31\n",
      "\n",
      "      October                   November                  December\n",
      "Su Mo Tu We Th Fr Sa      Su Mo Tu We Th Fr Sa      Su Mo Tu We Th Fr Sa\n",
      " 1  2  3  4  5  6  7                1  2  3  4                      1  2\n",
      " 8  9 10 11 12 13 14       5  6  7  8  9 10 11       3  4  5  6  7  8  9\n",
      "15 16 17 18 19 20 21      12 13 14 15 16 17 18      10 11 12 13 14 15 16\n",
      "22 23 24 25 26 27 28      19 20 21 22 23 24 25      17 18 19 20 21 22 23\n",
      "29 30 31                  26 27 28 29 30            24 25 26 27 28 29 30\n",
      "                                                    31\n",
      "\n"
     ]
    }
   ],
   "source": [
    "import calendar\n",
    "print(calendar.calendar(2023))"
   ]
  },
  {
   "cell_type": "code",
   "execution_count": 23,
   "metadata": {},
   "outputs": [
    {
     "name": "stdout",
     "output_type": "stream",
     "text": [
      "    October 2022\n",
      "Mo Tu We Th Fr Sa Su\n",
      "                1  2\n",
      " 3  4  5  6  7  8  9\n",
      "10 11 12 13 14 15 16\n",
      "17 18 19 20 21 22 23\n",
      "24 25 26 27 28 29 30\n",
      "31\n",
      "\n"
     ]
    }
   ],
   "source": [
    "import calendar\n",
    "print(calendar.month(2022, 10))"
   ]
  },
  {
   "cell_type": "code",
   "execution_count": 75,
   "metadata": {},
   "outputs": [
    {
     "name": "stdout",
     "output_type": "stream",
     "text": [
      "     March 2023\n",
      "Mo Tu We Th Fr Sa Su\n",
      "       1  2  3  4  5\n",
      " 6  7  8  9 10 11 12\n",
      "13 14 15 16 17 18 19\n",
      "20 21 22 23 24 25 26\n",
      "27 28 29 30 31\n"
     ]
    }
   ],
   "source": [
    "import calendar\n",
    "calendar.setfirstweekday(calendar.MONDAY)\n",
    "calendar.prmonth(2023, 3)"
   ]
  }
 ],
 "metadata": {
  "kernelspec": {
   "display_name": "Python 3.10.7 64-bit",
   "language": "python",
   "name": "python3"
  },
  "language_info": {
   "codemirror_mode": {
    "name": "ipython",
    "version": 3
   },
   "file_extension": ".py",
   "mimetype": "text/x-python",
   "name": "python",
   "nbconvert_exporter": "python",
   "pygments_lexer": "ipython3",
   "version": "3.11.1"
  },
  "orig_nbformat": 4,
  "vscode": {
   "interpreter": {
    "hash": "9b498ddd32e55b68d534c76e0a5db03787c5ee4a44567ad11658840a85200637"
   }
  }
 },
 "nbformat": 4,
 "nbformat_minor": 2
}
