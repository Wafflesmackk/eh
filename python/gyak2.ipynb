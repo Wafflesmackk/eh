{
 "cells": [
  {
   "cell_type": "code",
   "execution_count": 1,
   "metadata": {},
   "outputs": [
    {
     "name": "stdout",
     "output_type": "stream",
     "text": [
      "Hello World!\n"
     ]
    }
   ],
   "source": [
    "print(\"Hello World!\")"
   ]
  },
  {
   "cell_type": "code",
   "execution_count": 2,
   "metadata": {},
   "outputs": [
    {
     "name": "stdout",
     "output_type": "stream",
     "text": [
      "The itsy bitsy spider climbed up the waterspout.\n",
      "Down came the rain and washed the spider out.\n"
     ]
    }
   ],
   "source": [
    "print(\"The itsy bitsy spider climbed up the waterspout.\")\n",
    "print(\"Down came the rain and washed the spider out.\")"
   ]
  },
  {
   "cell_type": "code",
   "execution_count": 3,
   "metadata": {},
   "outputs": [
    {
     "name": "stdout",
     "output_type": "stream",
     "text": [
      "The itsy bitsy spider climbed up the waterspout.\n",
      "\n",
      "Down came the rain and washed the spider out.\n"
     ]
    }
   ],
   "source": [
    "print(\"The itsy bitsy spider climbed up the waterspout.\")\n",
    "print()\n",
    "print(\"Down came the rain and washed the spider out.\")"
   ]
  },
  {
   "cell_type": "code",
   "execution_count": 4,
   "metadata": {},
   "outputs": [
    {
     "name": "stdout",
     "output_type": "stream",
     "text": [
      "The itsy bitsy spider\n",
      "climbed up the waterspout.\n",
      "\n",
      "Down came the rain\n",
      "and washed the spider out.\n"
     ]
    }
   ],
   "source": [
    "print(\"The itsy bitsy spider\\nclimbed up the waterspout.\")\n",
    "print()\n",
    "print(\"Down came the rain\\nand washed the spider out.\")"
   ]
  },
  {
   "cell_type": "code",
   "execution_count": 5,
   "metadata": {},
   "outputs": [
    {
     "name": "stdout",
     "output_type": "stream",
     "text": [
      "The itsy bitsy spider climbed up the waterspout.\n"
     ]
    }
   ],
   "source": [
    "print(\"The itsy bitsy spider\" , \"climbed up\" , \"the waterspout.\")"
   ]
  },
  {
   "cell_type": "code",
   "execution_count": 6,
   "metadata": {},
   "outputs": [
    {
     "name": "stdout",
     "output_type": "stream",
     "text": [
      "Első rész////"
     ]
    }
   ],
   "source": [
    "print(\"Első rész\", end=\"////\")"
   ]
  },
  {
   "cell_type": "code",
   "execution_count": 7,
   "metadata": {},
   "outputs": [
    {
     "name": "stdout",
     "output_type": "stream",
     "text": [
      "My name is-Python. Monty Python.\n"
     ]
    }
   ],
   "source": [
    "print(\"My name is\", \"Python.\", end=\" \", sep=\"-\")\n",
    "print(\"Monty Python.\")"
   ]
  },
  {
   "cell_type": "code",
   "execution_count": 8,
   "metadata": {},
   "outputs": [
    {
     "name": "stdout",
     "output_type": "stream",
     "text": [
      "My-name-is-Monty-Python.\n"
     ]
    }
   ],
   "source": [
    "print(\"My\", \"name\", \"is\", \"Monty\", \"Python.\", sep=\"-\")"
   ]
  },
  {
   "cell_type": "code",
   "execution_count": 9,
   "metadata": {},
   "outputs": [
    {
     "name": "stdout",
     "output_type": "stream",
     "text": [
      "My_name_is*Monty*Python.*\n",
      ":)\n"
     ]
    }
   ],
   "source": [
    "print(\"My\", \"name\", \"is\", sep=\"_\", end=\"*\")\n",
    "print(\"Monty\", \"Python.\", sep=\"*\", end=\"*\\n\")\n",
    "print(\":)\")"
   ]
  },
  {
   "cell_type": "code",
   "execution_count": 10,
   "metadata": {},
   "outputs": [
    {
     "name": "stdout",
     "output_type": "stream",
     "text": [
      "   *\n",
      "  * *\n",
      "  * *\n",
      "  * *\n",
      "*** ***\n",
      " *   *\n",
      " *   *\n",
      " *****\n"
     ]
    }
   ],
   "source": [
    "print(\"   *\")\n",
    "print(\"  * *\")\n",
    "print(\"  * *\")\n",
    "print(\"  * *\")\n",
    "print(\"*** ***\")\n",
    "print(\" *   *\")\n",
    "print(\" *   *\")\n",
    "print(\" *****\")"
   ]
  },
  {
   "cell_type": "code",
   "execution_count": 11,
   "metadata": {},
   "outputs": [
    {
     "name": "stdout",
     "output_type": "stream",
     "text": [
      "2\n"
     ]
    }
   ],
   "source": [
    "print(2)"
   ]
  },
  {
   "cell_type": "code",
   "execution_count": 12,
   "metadata": {},
   "outputs": [
    {
     "name": "stdout",
     "output_type": "stream",
     "text": [
      "1e-22\n"
     ]
    }
   ],
   "source": [
    "print(0.0000000000000000000001)"
   ]
  },
  {
   "cell_type": "code",
   "execution_count": 13,
   "metadata": {},
   "outputs": [
    {
     "name": "stdout",
     "output_type": "stream",
     "text": [
      "83\n"
     ]
    }
   ],
   "source": [
    "print(0o123)"
   ]
  },
  {
   "cell_type": "code",
   "execution_count": 14,
   "metadata": {},
   "outputs": [
    {
     "name": "stdout",
     "output_type": "stream",
     "text": [
      "291\n"
     ]
    }
   ],
   "source": [
    "print(0x123)"
   ]
  },
  {
   "cell_type": "code",
   "execution_count": 15,
   "metadata": {},
   "outputs": [
    {
     "name": "stdout",
     "output_type": "stream",
     "text": [
      "2\n",
      "2\n"
     ]
    }
   ],
   "source": [
    "print(\"2\")\n",
    "print(2)"
   ]
  },
  {
   "cell_type": "code",
   "execution_count": 16,
   "metadata": {},
   "outputs": [],
   "source": [
    "a = \"2\"\n",
    "b = 2"
   ]
  },
  {
   "cell_type": "code",
   "execution_count": 17,
   "metadata": {},
   "outputs": [
    {
     "data": {
      "text/plain": [
       "str"
      ]
     },
     "execution_count": 17,
     "metadata": {},
     "output_type": "execute_result"
    }
   ],
   "source": [
    "type(\"Hello\")"
   ]
  },
  {
   "cell_type": "code",
   "execution_count": 18,
   "metadata": {},
   "outputs": [
    {
     "data": {
      "text/plain": [
       "str"
      ]
     },
     "execution_count": 18,
     "metadata": {},
     "output_type": "execute_result"
    }
   ],
   "source": [
    "type(\"007\")\n"
   ]
  },
  {
   "cell_type": "code",
   "execution_count": 19,
   "metadata": {},
   "outputs": [
    {
     "data": {
      "text/plain": [
       "str"
      ]
     },
     "execution_count": 19,
     "metadata": {},
     "output_type": "execute_result"
    }
   ],
   "source": [
    "type(\"1.5\")\n"
   ]
  },
  {
   "cell_type": "code",
   "execution_count": 20,
   "metadata": {},
   "outputs": [
    {
     "data": {
      "text/plain": [
       "float"
      ]
     },
     "execution_count": 20,
     "metadata": {},
     "output_type": "execute_result"
    }
   ],
   "source": [
    "type(2.0)\n"
   ]
  },
  {
   "cell_type": "code",
   "execution_count": 21,
   "metadata": {},
   "outputs": [
    {
     "data": {
      "text/plain": [
       "int"
      ]
     },
     "execution_count": 21,
     "metadata": {},
     "output_type": "execute_result"
    }
   ],
   "source": [
    "type(528)\n"
   ]
  },
  {
   "cell_type": "code",
   "execution_count": 22,
   "metadata": {},
   "outputs": [
    {
     "data": {
      "text/plain": [
       "bool"
      ]
     },
     "execution_count": 22,
     "metadata": {},
     "output_type": "execute_result"
    }
   ],
   "source": [
    "type(False)"
   ]
  },
  {
   "cell_type": "code",
   "execution_count": 23,
   "metadata": {},
   "outputs": [
    {
     "name": "stdout",
     "output_type": "stream",
     "text": [
      "8\n",
      "8.0\n",
      "8.0\n",
      "8.0\n"
     ]
    }
   ],
   "source": [
    "print(2 ** 3) \n",
    "print(2 ** 3.0)\n",
    "print(2. ** 3) \n",
    "print(2. ** 3.)"
   ]
  },
  {
   "cell_type": "code",
   "execution_count": 24,
   "metadata": {},
   "outputs": [
    {
     "name": "stdout",
     "output_type": "stream",
     "text": [
      "6\n",
      "6.0\n",
      "6.0\n",
      "6.0\n"
     ]
    }
   ],
   "source": [
    "print(2 * 3) \n",
    "print(2 * 3.) \n",
    "print(2. * 3) \n",
    "print(2. * 3.)"
   ]
  },
  {
   "cell_type": "code",
   "execution_count": 25,
   "metadata": {},
   "outputs": [
    {
     "name": "stdout",
     "output_type": "stream",
     "text": [
      "2.0\n",
      "2.0\n",
      "2.0\n",
      "2.0\n"
     ]
    }
   ],
   "source": [
    "print(6 / 3) \n",
    "print(6 / 3.) \n",
    "print(6. / 3) \n",
    "print(6. / 3.) "
   ]
  },
  {
   "cell_type": "code",
   "execution_count": 26,
   "metadata": {},
   "outputs": [
    {
     "name": "stdout",
     "output_type": "stream",
     "text": [
      "2\n",
      "2.0\n",
      "2.0\n",
      "2.0\n",
      "2.0\n"
     ]
    }
   ],
   "source": [
    "print(6 // 3) \n",
    "print(6 // 3.) \n",
    "print(6. // 3) \n",
    "print(6. // 3.) \n",
    "#123 ez azt jelenti hogy..\n",
    "print(5. // 2.)\n"
   ]
  },
  {
   "cell_type": "code",
   "execution_count": 27,
   "metadata": {},
   "outputs": [],
   "source": [
    "# Note: The “//” operator is used to return the closest integer value which is \n",
    "# less than or equal to a specified expression or value. \n",
    "# So from the above code, 5//2 returns 2. You know that 5/2 is 2.5, and the closest integer which is \n",
    "# less than or equal is 2[5//2].( it is inverse to the normal maths, in normal maths the value is 3)."
   ]
  },
  {
   "cell_type": "code",
   "execution_count": 28,
   "metadata": {},
   "outputs": [
    {
     "name": "stdout",
     "output_type": "stream",
     "text": [
      "2\n",
      "3.0\n"
     ]
    }
   ],
   "source": [
    "print(14 % 4) \n",
    "print(12 % 4.5) "
   ]
  },
  {
   "cell_type": "code",
   "execution_count": 29,
   "metadata": {},
   "outputs": [
    {
     "name": "stdout",
     "output_type": "stream",
     "text": [
      "0\n",
      "4.0\n"
     ]
    },
    {
     "data": {
      "text/plain": [
       "float"
      ]
     },
     "execution_count": 29,
     "metadata": {},
     "output_type": "execute_result"
    }
   ],
   "source": [
    "print(-4 + 4) \n",
    "print(-4. + 8) \n",
    "a = (-4. + 8) \n",
    "type(a)"
   ]
  },
  {
   "cell_type": "code",
   "execution_count": 30,
   "metadata": {},
   "outputs": [
    {
     "name": "stdout",
     "output_type": "stream",
     "text": [
      "-8\n",
      "-4.0\n",
      "-1.1\n"
     ]
    }
   ],
   "source": [
    "print(-4 - 4) \n",
    "print(4. - 8)\n",
    "print(-1.1)"
   ]
  },
  {
   "cell_type": "code",
   "execution_count": 31,
   "metadata": {},
   "outputs": [
    {
     "name": "stdout",
     "output_type": "stream",
     "text": [
      "17\n",
      "1\n",
      "256\n"
     ]
    }
   ],
   "source": [
    "print(2 + 3 * 5)\n",
    "print(9 % 6 % 2) \n",
    "print(2 ** 2 ** 3)"
   ]
  },
  {
   "cell_type": "code",
   "execution_count": 32,
   "metadata": {},
   "outputs": [
    {
     "name": "stdout",
     "output_type": "stream",
     "text": [
      "c = 5.0\n"
     ]
    }
   ],
   "source": [
    "a = 3.0\n",
    "b = 4.0\n",
    "c = (a ** 2 + b ** 2) ** 0.5\n",
    "print(\"c =\", c)"
   ]
  },
  {
   "cell_type": "code",
   "execution_count": 33,
   "metadata": {},
   "outputs": [
    {
     "name": "stdout",
     "output_type": "stream",
     "text": [
      "1\n",
      "10.0\n",
      "16 8.0 8\n",
      "-0.5 0.5 0 -1\n",
      "-2 2 512\n"
     ]
    }
   ],
   "source": [
    "print(2 * 3 % 5) \n",
    "\n",
    "print((5 * ((25 % 13) + 100) / (2 * 13)) // 2)\n",
    "\n",
    "print((2 ** 4), (2 * 4.), (2 * 4))\n",
    "print((-2 / 4), (2 / 4), (2 // 4), (-2 // 4))\n",
    "print((2 % -4), (2 % 4), (2 ** 3 ** 2))"
   ]
  },
  {
   "cell_type": "code",
   "execution_count": 34,
   "metadata": {},
   "outputs": [],
   "source": [
    "john = 3\n",
    "mary = 5\n",
    "adam = 6"
   ]
  },
  {
   "cell_type": "code",
   "execution_count": 35,
   "metadata": {},
   "outputs": [],
   "source": [
    "total_apples = john + mary + adam"
   ]
  },
  {
   "cell_type": "code",
   "execution_count": 36,
   "metadata": {},
   "outputs": [
    {
     "name": "stdout",
     "output_type": "stream",
     "text": [
      "7.38 miles is 11.88 kilometers\n",
      "12.25 kilometers is 7.61 miles\n"
     ]
    }
   ],
   "source": [
    "kilometers = 12.25\n",
    "miles = 7.38\n",
    "miles_to_kilometers = miles * 1.61\n",
    "kilometers_to_miles = kilometers / 1.61\n",
    "print(miles, \"miles is\", round(miles_to_kilometers, 2), \"kilometers\")\n",
    "print(kilometers, \"kilometers is\", round(kilometers_to_miles, 2), \"miles\")"
   ]
  },
  {
   "cell_type": "code",
   "execution_count": 37,
   "metadata": {},
   "outputs": [
    {
     "data": {
      "text/plain": [
       "1.22"
      ]
     },
     "execution_count": 37,
     "metadata": {},
     "output_type": "execute_result"
    }
   ],
   "source": [
    "round(1.2222,2)"
   ]
  },
  {
   "cell_type": "code",
   "execution_count": 38,
   "metadata": {},
   "outputs": [
    {
     "data": {
      "text/plain": [
       "1"
      ]
     },
     "execution_count": 38,
     "metadata": {},
     "output_type": "execute_result"
    }
   ],
   "source": [
    "# a = 1\n",
    "# a"
   ]
  },
  {
   "cell_type": "code",
   "execution_count": 39,
   "metadata": {},
   "outputs": [
    {
     "name": "stdout",
     "output_type": "stream",
     "text": [
      "Hours:  2\n"
     ]
    }
   ],
   "source": [
    "#this program computes the number of seconds in a given number of hours\n",
    "# this program has been written two days ago\n",
    "a = 2 # number of hours\n",
    "seconds = 3600 # number of seconds in 1 hour\n",
    "print(\"Hours: \", a) #printing the number of hours\n",
    "# print(\"Seconds in Hours: \", a * seconds) \n",
    "# # printing the number of seconds in a given number of hours\n",
    "#here we should also print \"Goodbye\", but a programmer didn't have time to write any code\n",
    "#this is the end of the program that computes the number of seconds in 3 hour"
   ]
  },
  {
   "cell_type": "code",
   "execution_count": 40,
   "metadata": {},
   "outputs": [
    {
     "name": "stdout",
     "output_type": "stream",
     "text": [
      "3\n"
     ]
    }
   ],
   "source": [
    "var = 2 \n",
    "var = 3 \n",
    "print(var)"
   ]
  },
  {
   "cell_type": "code",
   "execution_count": 41,
   "metadata": {},
   "outputs": [
    {
     "name": "stdout",
     "output_type": "stream",
     "text": [
      "11\n"
     ]
    }
   ],
   "source": [
    "a = '1'\n",
    "b = \"1\"\n",
    "print(a + b)"
   ]
  },
  {
   "cell_type": "code",
   "execution_count": 42,
   "metadata": {},
   "outputs": [
    {
     "name": "stdout",
     "output_type": "stream",
     "text": [
      "1.0\n"
     ]
    }
   ],
   "source": [
    "a = 6\n",
    "b = 3\n",
    "a /= 2 * b\n",
    "print(a)\n"
   ]
  },
  {
   "cell_type": "code",
   "execution_count": null,
   "metadata": {},
   "outputs": [
    {
     "name": "stdout",
     "output_type": "stream",
     "text": [
      "String #2\n"
     ]
    }
   ],
   "source": [
    "# print(\"String #1\") \n",
    "print(\"String #2\")\n"
   ]
  },
  {
   "cell_type": "code",
   "execution_count": null,
   "metadata": {},
   "outputs": [
    {
     "name": "stdout",
     "output_type": "stream",
     "text": [
      "Hello!\n"
     ]
    }
   ],
   "source": [
    "# This is a multiline \n",
    "#comment.  \n",
    "print(\"Hello!\")\n"
   ]
  },
  {
   "cell_type": "code",
   "execution_count": null,
   "metadata": {},
   "outputs": [],
   "source": [
    "hour = int(input(\"Starting time (hours): \"))\n",
    "mins = int(input(\"Starting time (minutes): \"))\n",
    "dura = int(input(\"Event duration (minutes): \"))\n",
    "# Write your code here."
   ]
  },
  {
   "cell_type": "code",
   "execution_count": null,
   "metadata": {},
   "outputs": [],
   "source": [
    "delta_hour = (mins + dura) // 60\n",
    "delta_hour"
   ]
  },
  {
   "cell_type": "code",
   "execution_count": null,
   "metadata": {},
   "outputs": [],
   "source": [
    "calculated_hour = hour + delta_hour\n",
    "calculated_hour"
   ]
  },
  {
   "cell_type": "code",
   "execution_count": null,
   "metadata": {},
   "outputs": [],
   "source": [
    "delta_mins = (mins + dura) % 60\n",
    "delta_mins"
   ]
  },
  {
   "cell_type": "code",
   "execution_count": null,
   "metadata": {},
   "outputs": [],
   "source": [
    "print(calculated_hour, \":\", delta_mins)"
   ]
  }
 ],
 "metadata": {
  "kernelspec": {
   "display_name": "Python 3.10.7 64-bit",
   "language": "python",
   "name": "python3"
  },
  "language_info": {
   "codemirror_mode": {
    "name": "ipython",
    "version": 3
   },
   "file_extension": ".py",
   "mimetype": "text/x-python",
   "name": "python",
   "nbconvert_exporter": "python",
   "pygments_lexer": "ipython3",
   "version": "3.11.2"
  },
  "orig_nbformat": 4,
  "vscode": {
   "interpreter": {
    "hash": "9b498ddd32e55b68d534c76e0a5db03787c5ee4a44567ad11658840a85200637"
   }
  }
 },
 "nbformat": 4,
 "nbformat_minor": 2
}
